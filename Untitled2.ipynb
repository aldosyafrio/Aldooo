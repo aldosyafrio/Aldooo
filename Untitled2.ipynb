{
  "nbformat": 4,
  "nbformat_minor": 0,
  "metadata": {
    "colab": {
      "name": "Untitled2.ipynb",
      "provenance": [],
      "authorship_tag": "ABX9TyOCRHxVFOfZVN8IACFiiJ/g",
      "include_colab_link": true
    },
    "kernelspec": {
      "name": "python3",
      "display_name": "Python 3"
    }
  },
  "cells": [
    {
      "cell_type": "markdown",
      "metadata": {
        "id": "view-in-github",
        "colab_type": "text"
      },
      "source": [
        "<a href=\"https://colab.research.google.com/github/aldosyafrio/Aldooo/blob/main/Untitled2.ipynb\" target=\"_parent\"><img src=\"https://colab.research.google.com/assets/colab-badge.svg\" alt=\"Open In Colab\"/></a>"
      ]
    },
    {
      "cell_type": "code",
      "metadata": {
        "id": "2lEq-x8gnwQA"
      },
      "source": [
        "import numpy as np\r\n",
        "import matplotlib.pyplot as plt"
      ],
      "execution_count": 1,
      "outputs": []
    },
    {
      "cell_type": "code",
      "metadata": {
        "id": "WytlHdmFogAu"
      },
      "source": [
        "def cos(frek,tipe,ht,hr,d):\r\n",
        "    if frek in range(150,1501):\r\n",
        "        Ca=69.55\r\n",
        "        Cb=26.16\r\n",
        "    elif frek in range(1501,2001):\r\n",
        "        Ca=46.3\r\n",
        "        Cb=33.9\r\n",
        "    \r\n",
        "    if tipe=='urban' :\r\n",
        "        Cm=0\r\n",
        "    elif tipe=='suburban' :\r\n",
        "        Cm= -2*((np.log10((frek/28)**2))-5.4)\r\n",
        "    elif tipe=='open' :\r\n",
        "        Cm= -4.78*(np.log10(frek))+18.33*(np.log10(frek))-40.94\r\n",
        "    else :\r\n",
        "        Cm='tipe salah'\r\n",
        "    \r\n",
        "    ahr = (1.1*np.log10(frek)-0.7)*hr-(1.56*np.log10(frek)-1.8)\r\n",
        "    Lp = Ca+(Cb*np.log10(frek))-(13.83*np.log(ht))-ahr+((44.9-6.55*np.log10(ht))*np.log10(d))-Cm\r\n",
        "    \r\n",
        "    return Lp"
      ],
      "execution_count": 2,
      "outputs": []
    },
    {
      "cell_type": "code",
      "metadata": {
        "id": "OudSeea4oiut"
      },
      "source": [
        "f=1800 #MHz\r\n",
        "loc='urban'\r\n",
        "loc2='suburban'\r\n",
        "loc3='open'\r\n",
        "tower=80 #m\r\n",
        "user=1.5 #m\r\n",
        "dmin=200 #m\r\n",
        "dmax=700 #m\r\n",
        "N=200 #titik\r\n",
        "d=np.random.randint(dmin,dmax,N)"
      ],
      "execution_count": 3,
      "outputs": []
    },
    {
      "cell_type": "code",
      "metadata": {
        "colab": {
          "base_uri": "https://localhost:8080/"
        },
        "id": "q7tmuFYmopFl",
        "outputId": "1062f63d-3bca-4400-8d45-b16f5ceb50f5"
      },
      "source": [
        "print(d)"
      ],
      "execution_count": 4,
      "outputs": [
        {
          "output_type": "stream",
          "text": [
            "[546 518 689 227 253 653 507 364 540 206 479 451 617 438 246 272 411 616\n",
            " 444 615 377 293 423 371 466 397 510 373 570 318 341 643 622 600 381 631\n",
            " 516 287 262 502 362 680 550 222 381 463 631 241 418 605 611 523 531 568\n",
            " 294 238 238 666 292 574 493 388 460 337 658 445 466 668 376 489 336 333\n",
            " 286 533 213 528 361 294 220 324 665 277 434 612 418 229 599 203 211 517\n",
            " 530 551 265 638 382 316 611 403 225 295 463 402 448 509 250 494 283 253\n",
            " 247 541 572 242 205 617 360 278 537 392 493 549 226 508 627 596 598 280\n",
            " 503 299 360 498 204 624 440 635 612 318 255 266 314 310 590 314 344 467\n",
            " 600 491 676 418 507 364 345 237 639 203 476 536 227 234 692 636 387 464\n",
            " 434 330 376 696 298 690 634 287 245 318 297 269 660 660 434 695 576 527\n",
            " 447 666 258 627 411 574 224 401 498 668 691 489 392 542 511 473 584 429\n",
            " 621 654]\n"
          ],
          "name": "stdout"
        }
      ]
    },
    {
      "cell_type": "code",
      "metadata": {
        "id": "Su27nhJqorCM"
      },
      "source": [
        "LpUrban=cos(f,loc,tower,user,d)\r\n",
        "LpSuburban=cos(f,loc2,tower,user,d)\r\n",
        "LpOpen=cos(f,loc3,tower,user,d)"
      ],
      "execution_count": 5,
      "outputs": []
    },
    {
      "cell_type": "code",
      "metadata": {
        "id": "IdfLgCNqou1E"
      },
      "source": [
        "d_sort=d[np.argsort(d)]\r\n",
        "Urban_sort=LpUrban[np.argsort(d)]\r\n",
        "Suburban_sort=LpSuburban[np.argsort(d)]\r\n",
        "Open_sort=LpOpen[np.argsort(d)]"
      ],
      "execution_count": 6,
      "outputs": []
    },
    {
      "cell_type": "markdown",
      "metadata": {
        "id": "-LGyRqqPoyXt"
      },
      "source": [
        "Gambar Kurva"
      ]
    },
    {
      "cell_type": "code",
      "metadata": {
        "colab": {
          "base_uri": "https://localhost:8080/",
          "height": 295
        },
        "id": "vcJrcE1Mo7z3",
        "outputId": "fc9bd6d1-fb42-468e-81c6-dee61b10f893"
      },
      "source": [
        "plt.figure()\r\n",
        "plt.plot(d_sort,Urban_sort,'r-', label='Urban')\r\n",
        "plt.plot(d_sort,Suburban_sort,'k-', label='Suburban')\r\n",
        "plt.plot(d_sort,Open_sort,'g-', label='Open')\r\n",
        "plt.legend()\r\n",
        "plt.title('Frekuensi 1800 MHz')\r\n",
        "plt.xlabel('Jarak (m)')\r\n",
        "plt.ylabel('Path Loss (dB)')\r\n",
        "plt.show()"
      ],
      "execution_count": 8,
      "outputs": [
        {
          "output_type": "display_data",
          "data": {
            "image/png": "[encoded data removed]",
            "text/plain": [
              "<Figure size 432x288 with 1 Axes>"
            ]
          },
          "metadata": {
            "tags": [],
            "needs_background": "light"
          }
        }
      ]
    },
    {
      "cell_type": "markdown",
      "metadata": {
        "id": "ojmhs13upCdk"
      },
      "source": [
        "**Grafik 2 - Model Urban**"
      ]
    },
    {
      "cell_type": "code",
      "metadata": {
        "id": "m2QUxXOApL6F"
      },
      "source": [
        "f=700 #MHz\r\n",
        "f2=900 #MHz\r\n",
        "f3=1800 #MHz\r\n",
        "loc='urban'\r\n",
        "tower=80 #m\r\n",
        "user=1.5 #m\r\n",
        "dmin=200 #m\r\n",
        "dmax=700 #m\r\n",
        "N=200 #titik\r\n",
        "d=np.random.randint(dmin,dmax,N)"
      ],
      "execution_count": 9,
      "outputs": []
    },
    {
      "cell_type": "code",
      "metadata": {
        "id": "dfmcx3K-pQve"
      },
      "source": [
        "LpUrban=cos(f,loc,tower,user,d)\r\n",
        "LpUrban2=cos(f2,loc,tower,user,d)\r\n",
        "LpUrban3=cos(f3,loc,tower,user,d)"
      ],
      "execution_count": 10,
      "outputs": []
    },
    {
      "cell_type": "code",
      "metadata": {
        "id": "AvIRFpQJpTPl"
      },
      "source": [
        "d_sort=d[np.argsort(d)]\r\n",
        "Urban_sort=LpUrban[np.argsort(d)]\r\n",
        "Urban2_sort=LpUrban2[np.argsort(d)]\r\n",
        "Urban3_sort=LpUrban3[np.argsort(d)]"
      ],
      "execution_count": 11,
      "outputs": []
    },
    {
      "cell_type": "markdown",
      "metadata": {
        "id": "n4GmEyYypXUF"
      },
      "source": [
        "**Gambar Kurva**"
      ]
    },
    {
      "cell_type": "code",
      "metadata": {
        "colab": {
          "base_uri": "https://localhost:8080/",
          "height": 295
        },
        "id": "sHJ9OAsepa4k",
        "outputId": "7210291d-2631-42e5-d48a-b60d94a0834e"
      },
      "source": [
        "plt.figure()\r\n",
        "plt.plot(d_sort,Urban_sort,'r-', label='700 Mhz')\r\n",
        "plt.plot(d_sort,Urban2_sort,'k-', label='900 Mhz')\r\n",
        "plt.plot(d_sort,Urban3_sort,'g-', label='1800 Mhz')\r\n",
        "plt.legend()\r\n",
        "plt.title('Model Urban')\r\n",
        "plt.xlabel('Jarak (m)')\r\n",
        "plt.ylabel('Path Loss (dB)')\r\n",
        "plt.show()"
      ],
      "execution_count": 12,
      "outputs": [
        {
          "output_type": "display_data",
          "data": {
            "image/png": "[encoded data removed]",
            "text/plain": [
              "<Figure size 432x288 with 1 Axes>"
            ]
          },
          "metadata": {
            "tags": [],
            "needs_background": "light"
          }
        }
      ]
    },
    {
      "cell_type": "code",
      "metadata": {
        "id": "0RvEUpCCphfE"
      },
      "source": [
        "from google.colab import drive\n",
        "drive.mount('/content/drive')"
      ],
      "execution_count": null,
      "outputs": []
    }
  ]
}